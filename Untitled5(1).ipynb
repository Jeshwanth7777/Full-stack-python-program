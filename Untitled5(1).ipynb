{
 "cells": [
  {
   "cell_type": "code",
   "execution_count": 1,
   "id": "e1590a87-bd87-4913-b193-68063254f15e",
   "metadata": {},
   "outputs": [
    {
     "name": "stdout",
     "output_type": "stream",
     "text": [
      "Hello, Python Full Stack Students!\n"
     ]
    }
   ],
   "source": [
    "print(\"Hello, Python Full Stack Students!\")"
   ]
  },
  {
   "cell_type": "code",
   "execution_count": 2,
   "id": "35183b66-e557-4e72-acc6-80687330a21c",
   "metadata": {},
   "outputs": [
    {
     "name": "stdout",
     "output_type": "stream",
     "text": [
      "introduction to python\n"
     ]
    }
   ],
   "source": [
    "print(\"introduction to python\")"
   ]
  },
  {
   "cell_type": "code",
   "execution_count": 3,
   "id": "7427a8ca-da16-48f4-bb00-fe1a883fe854",
   "metadata": {},
   "outputs": [
    {
     "name": "stdout",
     "output_type": "stream",
     "text": [
      "Python is interupted, high level, general - purpose programming language\n"
     ]
    }
   ],
   "source": [
    "print(\"Python is interupted, high level, general - purpose programming language\")"
   ]
  },
  {
   "cell_type": "code",
   "execution_count": 7,
   "id": "f2b27f08-b1f6-40eb-a93d-a6690220383e",
   "metadata": {},
   "outputs": [
    {
     "name": "stdout",
     "output_type": "stream",
     "text": [
      "jeshwanth 17 8.0 True\n"
     ]
    }
   ],
   "source": [
    "name = \"jeshwanth\"\n",
    "age = 17\n",
    "gpa = 8.0\n",
    "is_student = True\n",
    "print(name, age, gpa, is_student)"
   ]
  },
  {
   "cell_type": "code",
   "execution_count": 8,
   "id": "641844e7-6624-4aa1-a1f9-7d55998bd886",
   "metadata": {},
   "outputs": [
    {
     "name": "stdout",
     "output_type": "stream",
     "text": [
      "Sathwik 18 7.9 True\n"
     ]
    }
   ],
   "source": [
    "Name = \"Sathwik\"\n",
    "age = 18\n",
    "gpa = 7.9\n",
    "is_student = True\n",
    "print(Name, age, gpa, is_student)"
   ]
  },
  {
   "cell_type": "code",
   "execution_count": 9,
   "id": "6c232277-9873-4fc9-bd88-6e2d70a56e66",
   "metadata": {},
   "outputs": [
    {
     "name": "stdout",
     "output_type": "stream",
     "text": [
      "karthik 18 7.5 False\n"
     ]
    }
   ],
   "source": [
    "name = \"karthik\"\n",
    "age = 18\n",
    "gpa = 7.5\n",
    "is_student = False\n",
    "print(name, age, gpa, is_student)"
   ]
  },
  {
   "cell_type": "code",
   "execution_count": 13,
   "id": "604526b9-4767-4537-87f3-95c0115e30ae",
   "metadata": {},
   "outputs": [
    {
     "name": "stdout",
     "output_type": "stream",
     "text": [
      "<class 'int'> <class 'float'> <class 'str'> <class 'bool'>\n"
     ]
    }
   ],
   "source": [
    "x = 10\n",
    "y = 3.14\n",
    "z = \"python\"\n",
    "flag = False\n",
    "print(int , float, str, bool)"
   ]
  },
  {
   "cell_type": "code",
   "execution_count": 23,
   "id": "efef893e-aa97-4015-9f0e-246ca45e2d12",
   "metadata": {},
   "outputs": [
    {
     "name": "stdout",
     "output_type": "stream",
     "text": [
      "jeshwanth Avinash_college_of_commerce Python\n"
     ]
    }
   ],
   "source": [
    "Name=\"jeshwanth\"\n",
    "collegename= \"Avinash_college_of_commerce\"\n",
    "favorite_programming_language=\"Python\" \n",
    "print(Name,collegename,favorite_programming_language) "
   ]
  },
  {
   "cell_type": "code",
   "execution_count": 30,
   "id": "a0c6a067-d1e5-47a2-9f19-bb95e476d3e9",
   "metadata": {},
   "outputs": [
    {
     "name": "stdout",
     "output_type": "stream",
     "text": [
      "17\n"
     ]
    }
   ],
   "source": [
    "birth_year= 2008\n",
    "current_year= 2025\n",
    "age= current_year-birth_year\n",
    "print(age)"
   ]
  },
  {
   "cell_type": "code",
   "execution_count": 33,
   "id": "570d9bc9-a795-4788-b2f6-2521c2398951",
   "metadata": {},
   "outputs": [
    {
     "name": "stdout",
     "output_type": "stream",
     "text": [
      "little_hearts september_5th 9.0\n"
     ]
    }
   ],
   "source": [
    "movie_name= \"little_hearts\"\n",
    "release_date= \"september_5th\"\n",
    "rating= 9.0\n",
    "print(movie_name, release_date, rating)"
   ]
  },
  {
   "cell_type": "code",
   "execution_count": 36,
   "id": "0a5b0b9b-a6c4-4adb-981f-d59e4e67f32c",
   "metadata": {},
   "outputs": [
    {
     "name": "stdout",
     "output_type": "stream",
     "text": [
      "addition: 19\n"
     ]
    }
   ],
   "source": [
    "print(\"addition:\",15+4)"
   ]
  },
  {
   "cell_type": "code",
   "execution_count": 37,
   "id": "d80eb536-7499-4730-a2ba-92ca8c65e9f9",
   "metadata": {},
   "outputs": [
    {
     "name": "stdout",
     "output_type": "stream",
     "text": [
      "division: 3.75\n"
     ]
    }
   ],
   "source": [
    "print(\"division:\",15/4)"
   ]
  },
  {
   "cell_type": "code",
   "execution_count": 38,
   "id": "82fdfea5-a04b-4967-8250-14fdd8194e4b",
   "metadata": {},
   "outputs": [
    {
     "name": "stdout",
     "output_type": "stream",
     "text": [
      "floordivision: 3\n"
     ]
    }
   ],
   "source": [
    "print(\"floordivision:\",15//4)"
   ]
  },
  {
   "cell_type": "code",
   "execution_count": 39,
   "id": "0a453b81-3d0d-4222-8bf5-d2e22a7f7595",
   "metadata": {},
   "outputs": [
    {
     "name": "stdout",
     "output_type": "stream",
     "text": [
      "power: 50625\n"
     ]
    }
   ],
   "source": [
    "print(\"power:\",15**4)"
   ]
  },
  {
   "cell_type": "code",
   "execution_count": 40,
   "id": "0c23dc8d-a3fb-42a6-a00f-e64ceaad701c",
   "metadata": {},
   "outputs": [
    {
     "name": "stdout",
     "output_type": "stream",
     "text": [
      "False\n"
     ]
    }
   ],
   "source": [
    "print(10>20)"
   ]
  },
  {
   "cell_type": "code",
   "execution_count": 41,
   "id": "5ae3b4f4-3b7b-4e68-8b55-e6db91a2e98b",
   "metadata": {},
   "outputs": [
    {
     "name": "stdout",
     "output_type": "stream",
     "text": [
      "True\n"
     ]
    }
   ],
   "source": [
    "print(10==10)"
   ]
  },
  {
   "cell_type": "code",
   "execution_count": 43,
   "id": "57cf92c5-95c9-489b-aa28-47003640de46",
   "metadata": {},
   "outputs": [
    {
     "name": "stdout",
     "output_type": "stream",
     "text": [
      "True\n"
     ]
    }
   ],
   "source": [
    "print((10<20)and(20==20))"
   ]
  },
  {
   "cell_type": "code",
   "execution_count": 2,
   "id": "57f8c78c-746b-4466-a61b-8b0a908a18a4",
   "metadata": {},
   "outputs": [
    {
     "name": "stdout",
     "output_type": "stream",
     "text": [
      "Day 2 ....................\n"
     ]
    }
   ],
   "source": [
    "print(\"Day 2 ....................\")"
   ]
  },
  {
   "cell_type": "code",
   "execution_count": 11,
   "id": "1e901643-9796-439e-ac66-7a1b872a0ed2",
   "metadata": {},
   "outputs": [
    {
     "name": "stdout",
     "output_type": "stream",
     "text": [
      "['apple', 'banana', 'mango', 'orange']\n",
      "apple\n",
      "banana\n",
      "mango\n",
      "orange\n"
     ]
    }
   ],
   "source": [
    "fruits= [\"apple\", \"banana\", \"mango\"]\n",
    "fruits.append(\"orange\")\n",
    "print(fruits)\n",
    "print(fruits[0])\n",
    "print(fruits[1])\n",
    "print(fruits[2])\n",
    "print(fruits[3])"
   ]
  },
  {
   "cell_type": "code",
   "execution_count": 5,
   "id": "24479ec9-08e8-4ccd-ab04-af028d659c63",
   "metadata": {},
   "outputs": [
    {
     "name": "stdout",
     "output_type": "stream",
     "text": [
      "['sai', 'naga', 'nani', 'jeshu', 'srinu']\n",
      "sai\n",
      "naga\n",
      "nani\n",
      "jeshu\n",
      "srinu\n"
     ]
    }
   ],
   "source": [
    "team= [\"sai\", \"naga\", \"nani\", \"jeshu\"]\n",
    "team.append(\"srinu\")\n",
    "print(team)\n",
    "print(team[0])\n",
    "print(team[1])\n",
    "print(team[2])\n",
    "print(team[3])\n",
    "print(team[4])"
   ]
  },
  {
   "cell_type": "code",
   "execution_count": 12,
   "id": "76a4ab1d-adcc-4b80-afec-98ff0d60a886",
   "metadata": {},
   "outputs": [
    {
     "name": "stdout",
     "output_type": "stream",
     "text": [
      "['banana', 'mango', 'orange']\n",
      "banana\n",
      "mango\n",
      "orange\n"
     ]
    }
   ],
   "source": [
    "fruits= [\"apple\", \"banana\", \"mango\"]\n",
    "fruits.append(\"orange\")\n",
    "fruits.remove(\"apple\")\n",
    "fruits.sort()\n",
    "print(fruits)\n",
    "print(fruits[0])\n",
    "print(fruits[1])\n",
    "print(fruits[2])"
   ]
  },
  {
   "cell_type": "code",
   "execution_count": 15,
   "id": "7872ad9b-2a3a-4d61-a6a6-677c5b3c4b0e",
   "metadata": {},
   "outputs": [
    {
     "name": "stdout",
     "output_type": "stream",
     "text": [
      "red\n"
     ]
    }
   ],
   "source": [
    "colours= (\"red\", \"green\", \"blue\")\n",
    "print(colours[0])\n",
    "#colours[1]= \"yellow\""
   ]
  },
  {
   "cell_type": "code",
   "execution_count": 17,
   "id": "27c8ea74-f13a-4475-98f3-46771cd05483",
   "metadata": {},
   "outputs": [
    {
     "name": "stdout",
     "output_type": "stream",
     "text": [
      "{1, 2, 3, 4, 5}\n"
     ]
    }
   ],
   "source": [
    "numbers= {1, 2, 3, 3, 4}\n",
    "numbers.add(5)\n",
    "print(numbers)"
   ]
  },
  {
   "cell_type": "code",
   "execution_count": 20,
   "id": "5161b2cd-6320-4922-9b9e-ce6aa9530ca5",
   "metadata": {},
   "outputs": [
    {
     "name": "stdout",
     "output_type": "stream",
     "text": [
      "['telugu', 'hindi', 'english', 'mathematics', 'science', 'socialstudies']\n"
     ]
    }
   ],
   "source": [
    "subjects= [\"telugu\", \"hindi\", \"english\", \"mathematics\", \"science\"]\n",
    "subjects.append(\"socialstudies\")\n",
    "print(subjects)"
   ]
  },
  {
   "cell_type": "code",
   "execution_count": 21,
   "id": "2a83bf39-fb43-4897-9609-a06b258f46db",
   "metadata": {},
   "outputs": [
    {
     "name": "stdout",
     "output_type": "stream",
     "text": [
      "kabadi\n"
     ]
    }
   ],
   "source": [
    "sports= (\"crictet\", \"kabadi\", \"hockey\")\n",
    "print(sports[1])"
   ]
  },
  {
   "cell_type": "code",
   "execution_count": 23,
   "id": "75b4fb72-2a03-4ead-93da-2fa26b8756b8",
   "metadata": {},
   "outputs": [
    {
     "name": "stdout",
     "output_type": "stream",
     "text": [
      "{1, 3, 4, 5, 6, 9}\n"
     ]
    }
   ],
   "source": [
    "rollnumbers= {1,3,5,5,6,4,4,6}\n",
    "rollnumbers.add(9)\n",
    "print(rollnumbers)"
   ]
  },
  {
   "cell_type": "code",
   "execution_count": 32,
   "id": "275bedbb-d221-4522-b4be-0ffc500fb152",
   "metadata": {},
   "outputs": [
    {
     "name": "stdout",
     "output_type": "stream",
     "text": [
      "dict_keys(['name', 'age', 'course', 'college'])\n",
      "dict_values(['jeshwanth', 16, 'python full stack', 'ACC'])\n",
      "jeshwanth\n",
      "{'name': 'jeshwanth', 'age': 17, 'course': 'python full stack', 'college': 'ACC'}\n"
     ]
    }
   ],
   "source": [
    "student= {\"name\": \"jeshwanth\",\n",
    "          \"age\":16,\n",
    "\"course\":\"python full stack\"}\n",
    "student[\"college\"]= \"ACC\"\n",
    "print(student.keys())\n",
    "print(student.values())\n",
    "print(student[\"name\"])\n",
    "student[\"age\"]= 17\n",
    "print(student)"
   ]
  },
  {
   "cell_type": "code",
   "execution_count": 39,
   "id": "bbd619d1-c7c7-4f32-af77-3d8fe4781a8a",
   "metadata": {},
   "outputs": [
    {
     "name": "stdout",
     "output_type": "stream",
     "text": [
      "dict_values(['kanna', 'anurag', 'cse'])\n"
     ]
    }
   ],
   "source": [
    "student= {\"name\":\"kanna\",\n",
    "        \"college\":\"anurag\",\n",
    "        \"branch\": \"cse\"}\n",
    "print(student.values())"
   ]
  },
  {
   "cell_type": "code",
   "execution_count": 47,
   "id": "85fb4d2f-ac58-442c-a008-aa8a819f9963",
   "metadata": {},
   "outputs": [
    {
     "name": "stdout",
     "output_type": "stream",
     "text": [
      "grade:fail\n"
     ]
    }
   ],
   "source": [
    "marks= 35\n",
    "if marks >=90:\n",
    "    print(\"grade:a\")\n",
    "elif marks >=75:\n",
    "    print(\"grade:b\")\n",
    "elif marks >=50:\n",
    "    print(\"grade:c\")\n",
    "else:\n",
    "    print(\"grade:fail\")"
   ]
  },
  {
   "cell_type": "code",
   "execution_count": null,
   "id": "ffa1bce2-086b-413d-83ea-d94d4784b05c",
   "metadata": {},
   "outputs": [],
   "source": []
  },
  {
   "cell_type": "code",
   "execution_count": 48,
   "id": "6c87bb67-4ce4-4977-9b14-a685606001e2",
   "metadata": {},
   "outputs": [
    {
     "name": "stdout",
     "output_type": "stream",
     "text": [
      "grade:b\n"
     ]
    }
   ],
   "source": [
    "marks= 75\n",
    "if marks >=90:\n",
    "    print(\"grade:a\")\n",
    "elif marks >=75:\n",
    "    print(\"grade:b\")\n",
    "elif marks >=50:\n",
    "    print(\"grade:c\")\n",
    "else:\n",
    "    print(\"grade:fail\")"
   ]
  },
  {
   "cell_type": "code",
   "execution_count": 52,
   "id": "35fe48c5-1f0b-4d68-b2e6-51d22a7b44a5",
   "metadata": {},
   "outputs": [
    {
     "name": "stdout",
     "output_type": "stream",
     "text": [
      "forloop\n"
     ]
    }
   ],
   "source": [
    "print(\"forloop\")"
   ]
  },
  {
   "cell_type": "code",
   "execution_count": 49,
   "id": "c176fa75-59b4-4b8e-85ea-3fef71883186",
   "metadata": {},
   "outputs": [
    {
     "name": "stdout",
     "output_type": "stream",
     "text": [
      "number: 1\n",
      "number: 2\n",
      "number: 3\n",
      "number: 4\n",
      "number: 5\n"
     ]
    }
   ],
   "source": [
    "for i in range(1, 6):\n",
    "    print(\"number:\",i)"
   ]
  },
  {
   "cell_type": "code",
   "execution_count": 53,
   "id": "adb89c65-d55c-412b-a0d4-3f7830af5ff7",
   "metadata": {},
   "outputs": [
    {
     "name": "stdout",
     "output_type": "stream",
     "text": [
      "whileloop\n"
     ]
    }
   ],
   "source": [
    "print(\"whileloop\")"
   ]
  },
  {
   "cell_type": "code",
   "execution_count": 54,
   "id": "20bf0805-6fd6-4c12-82fd-3381eeb7963c",
   "metadata": {},
   "outputs": [
    {
     "name": "stdout",
     "output_type": "stream",
     "text": [
      "count: 1\n",
      "count: 2\n",
      "count: 3\n",
      "count: 4\n",
      "count: 5\n"
     ]
    }
   ],
   "source": [
    "count= 1\n",
    "while count<=5:\n",
    "    print(\"count:\", count)\n",
    "    count +=1"
   ]
  },
  {
   "cell_type": "code",
   "execution_count": 56,
   "id": "3a353ead-d273-4422-8c76-872ac11b4d2b",
   "metadata": {},
   "outputs": [
    {
     "name": "stdout",
     "output_type": "stream",
     "text": [
      "25C91A0542\n"
     ]
    }
   ],
   "source": [
    "print(\"25C91A0542\")"
   ]
  },
  {
   "cell_type": "code",
   "execution_count": 63,
   "id": "680d27eb-b9f9-450c-a96b-2cb0a75f4a9e",
   "metadata": {},
   "outputs": [
    {
     "name": "stdout",
     "output_type": "stream",
     "text": [
      "1\n",
      "2\n",
      "3\n",
      "4\n",
      "5\n"
     ]
    }
   ],
   "source": [
    "for i in range(1, 10):\n",
    "    if i == 6:\n",
    "        break\n",
    "    print(i)"
   ]
  },
  {
   "cell_type": "code",
   "execution_count": 66,
   "id": "3f4a2c53-f962-4d70-bdfb-74a4f2428dee",
   "metadata": {},
   "outputs": [
    {
     "name": "stdout",
     "output_type": "stream",
     "text": [
      "numbers: 1\n",
      "numbers: 2\n",
      "numbers: 3\n",
      "numbers: 4\n",
      "numbers: 5\n",
      "numbers: 6\n",
      "numbers: 7\n",
      "numbers: 8\n",
      "numbers: 9\n"
     ]
    }
   ],
   "source": [
    "for i in range(1, 10):\n",
    "    print(\"numbers:\",i)"
   ]
  },
  {
   "cell_type": "code",
   "execution_count": null,
   "id": "db6f31ae-cc13-45f0-b5d4-4c3863c28d6b",
   "metadata": {},
   "outputs": [],
   "source": []
  }
 ],
 "metadata": {
  "kernelspec": {
   "display_name": "Python [conda env:base] *",
   "language": "python",
   "name": "conda-base-py"
  },
  "language_info": {
   "codemirror_mode": {
    "name": "ipython",
    "version": 3
   },
   "file_extension": ".py",
   "mimetype": "text/x-python",
   "name": "python",
   "nbconvert_exporter": "python",
   "pygments_lexer": "ipython3",
   "version": "3.13.5"
  }
 },
 "nbformat": 4,
 "nbformat_minor": 5
}
