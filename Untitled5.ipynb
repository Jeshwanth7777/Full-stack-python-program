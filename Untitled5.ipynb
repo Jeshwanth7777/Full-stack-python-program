{
 "cells": [
  {
   "cell_type": "code",
   "execution_count": 1,
   "id": "e1590a87-bd87-4913-b193-68063254f15e",
   "metadata": {},
   "outputs": [
    {
     "name": "stdout",
     "output_type": "stream",
     "text": [
      "Hello, Python Full Stack Students!\n"
     ]
    }
   ],
   "source": [
    "print(\"Hello, Python Full Stack Students!\")"
   ]
  },
  {
   "cell_type": "code",
   "execution_count": 2,
   "id": "35183b66-e557-4e72-acc6-80687330a21c",
   "metadata": {},
   "outputs": [
    {
     "name": "stdout",
     "output_type": "stream",
     "text": [
      "introduction to python\n"
     ]
    }
   ],
   "source": [
    "print(\"introduction to python\")"
   ]
  },
  {
   "cell_type": "code",
   "execution_count": 3,
   "id": "7427a8ca-da16-48f4-bb00-fe1a883fe854",
   "metadata": {},
   "outputs": [
    {
     "name": "stdout",
     "output_type": "stream",
     "text": [
      "Python is interupted, high level, general - purpose programming language\n"
     ]
    }
   ],
   "source": [
    "print(\"Python is interupted, high level, general - purpose programming language\")"
   ]
  },
  {
   "cell_type": "code",
   "execution_count": 7,
   "id": "f2b27f08-b1f6-40eb-a93d-a6690220383e",
   "metadata": {},
   "outputs": [
    {
     "name": "stdout",
     "output_type": "stream",
     "text": [
      "jeshwanth 17 8.0 True\n"
     ]
    }
   ],
   "source": [
    "name = \"jeshwanth\"\n",
    "age = 17\n",
    "gpa = 8.0\n",
    "is_student = True\n",
    "print(name, age, gpa, is_student)"
   ]
  },
  {
   "cell_type": "code",
   "execution_count": 8,
   "id": "641844e7-6624-4aa1-a1f9-7d55998bd886",
   "metadata": {},
   "outputs": [
    {
     "name": "stdout",
     "output_type": "stream",
     "text": [
      "Sathwik 18 7.9 True\n"
     ]
    }
   ],
   "source": [
    "Name = \"Sathwik\"\n",
    "age = 18\n",
    "gpa = 7.9\n",
    "is_student = True\n",
    "print(Name, age, gpa, is_student)"
   ]
  },
  {
   "cell_type": "code",
   "execution_count": 9,
   "id": "6c232277-9873-4fc9-bd88-6e2d70a56e66",
   "metadata": {},
   "outputs": [
    {
     "name": "stdout",
     "output_type": "stream",
     "text": [
      "karthik 18 7.5 False\n"
     ]
    }
   ],
   "source": [
    "name = \"karthik\"\n",
    "age = 18\n",
    "gpa = 7.5\n",
    "is_student = False\n",
    "print(name, age, gpa, is_student)"
   ]
  },
  {
   "cell_type": "code",
   "execution_count": 13,
   "id": "604526b9-4767-4537-87f3-95c0115e30ae",
   "metadata": {},
   "outputs": [
    {
     "name": "stdout",
     "output_type": "stream",
     "text": [
      "<class 'int'> <class 'float'> <class 'str'> <class 'bool'>\n"
     ]
    }
   ],
   "source": [
    "x = 10\n",
    "y = 3.14\n",
    "z = \"python\"\n",
    "flag = False\n",
    "print(int , float, str, bool)"
   ]
  },
  {
   "cell_type": "code",
   "execution_count": 23,
   "id": "efef893e-aa97-4015-9f0e-246ca45e2d12",
   "metadata": {},
   "outputs": [
    {
     "name": "stdout",
     "output_type": "stream",
     "text": [
      "jeshwanth Avinash_college_of_commerce Python\n"
     ]
    }
   ],
   "source": [
    "Name=\"jeshwanth\"\n",
    "collegename= \"Avinash_college_of_commerce\"\n",
    "favorite_programming_language=\"Python\" \n",
    "print(Name,collegename,favorite_programming_language) "
   ]
  },
  {
   "cell_type": "code",
   "execution_count": 30,
   "id": "a0c6a067-d1e5-47a2-9f19-bb95e476d3e9",
   "metadata": {},
   "outputs": [
    {
     "name": "stdout",
     "output_type": "stream",
     "text": [
      "17\n"
     ]
    }
   ],
   "source": [
    "birth_year= 2008\n",
    "current_year= 2025\n",
    "age= current_year-birth_year\n",
    "print(age)"
   ]
  },
  {
   "cell_type": "code",
   "execution_count": 33,
   "id": "570d9bc9-a795-4788-b2f6-2521c2398951",
   "metadata": {},
   "outputs": [
    {
     "name": "stdout",
     "output_type": "stream",
     "text": [
      "little_hearts september_5th 9.0\n"
     ]
    }
   ],
   "source": [
    "movie_name= \"little_hearts\"\n",
    "release_date= \"september_5th\"\n",
    "rating= 9.0\n",
    "print(movie_name, release_date, rating)"
   ]
  },
  {
   "cell_type": "code",
   "execution_count": 36,
   "id": "0a5b0b9b-a6c4-4adb-981f-d59e4e67f32c",
   "metadata": {},
   "outputs": [
    {
     "name": "stdout",
     "output_type": "stream",
     "text": [
      "addition: 19\n"
     ]
    }
   ],
   "source": [
    "print(\"addition:\",15+4)"
   ]
  },
  {
   "cell_type": "code",
   "execution_count": 37,
   "id": "d80eb536-7499-4730-a2ba-92ca8c65e9f9",
   "metadata": {},
   "outputs": [
    {
     "name": "stdout",
     "output_type": "stream",
     "text": [
      "division: 3.75\n"
     ]
    }
   ],
   "source": [
    "print(\"division:\",15/4)"
   ]
  },
  {
   "cell_type": "code",
   "execution_count": 38,
   "id": "82fdfea5-a04b-4967-8250-14fdd8194e4b",
   "metadata": {},
   "outputs": [
    {
     "name": "stdout",
     "output_type": "stream",
     "text": [
      "floordivision: 3\n"
     ]
    }
   ],
   "source": [
    "print(\"floordivision:\",15//4)"
   ]
  },
  {
   "cell_type": "code",
   "execution_count": 39,
   "id": "0a453b81-3d0d-4222-8bf5-d2e22a7f7595",
   "metadata": {},
   "outputs": [
    {
     "name": "stdout",
     "output_type": "stream",
     "text": [
      "power: 50625\n"
     ]
    }
   ],
   "source": [
    "print(\"power:\",15**4)"
   ]
  },
  {
   "cell_type": "code",
   "execution_count": 40,
   "id": "0c23dc8d-a3fb-42a6-a00f-e64ceaad701c",
   "metadata": {},
   "outputs": [
    {
     "name": "stdout",
     "output_type": "stream",
     "text": [
      "False\n"
     ]
    }
   ],
   "source": [
    "print(10>20)"
   ]
  },
  {
   "cell_type": "code",
   "execution_count": 41,
   "id": "5ae3b4f4-3b7b-4e68-8b55-e6db91a2e98b",
   "metadata": {},
   "outputs": [
    {
     "name": "stdout",
     "output_type": "stream",
     "text": [
      "True\n"
     ]
    }
   ],
   "source": [
    "print(10==10)"
   ]
  },
  {
   "cell_type": "code",
   "execution_count": 43,
   "id": "57cf92c5-95c9-489b-aa28-47003640de46",
   "metadata": {},
   "outputs": [
    {
     "name": "stdout",
     "output_type": "stream",
     "text": [
      "True\n"
     ]
    }
   ],
   "source": [
    "print((10<20)and(20==20))"
   ]
  },
  {
   "cell_type": "code",
   "execution_count": null,
   "id": "57f8c78c-746b-4466-a61b-8b0a908a18a4",
   "metadata": {},
   "outputs": [],
   "source": []
  }
 ],
 "metadata": {
  "kernelspec": {
   "display_name": "Python [conda env:base] *",
   "language": "python",
   "name": "conda-base-py"
  },
  "language_info": {
   "codemirror_mode": {
    "name": "ipython",
    "version": 3
   },
   "file_extension": ".py",
   "mimetype": "text/x-python",
   "name": "python",
   "nbconvert_exporter": "python",
   "pygments_lexer": "ipython3",
   "version": "3.13.5"
  }
 },
 "nbformat": 4,
 "nbformat_minor": 5
}
